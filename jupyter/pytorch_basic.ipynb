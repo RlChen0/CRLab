{
 "cells": [
  {
   "cell_type": "code",
   "execution_count": 2,
   "outputs": [],
   "source": [
    "from torchmetrics import PearsonCorrCoef\n",
    "import torch"
   ],
   "metadata": {
    "collapsed": false,
    "pycharm": {
     "name": "#%%\n"
    }
   }
  },
  {
   "cell_type": "code",
   "execution_count": 11,
   "outputs": [],
   "source": [
    "x = torch.randn([1, 896, 2])\n",
    "y = torch.randn([1, 896, 2])"
   ],
   "metadata": {
    "collapsed": false,
    "pycharm": {
     "name": "#%%\n"
    }
   }
  },
  {
   "cell_type": "code",
   "execution_count": 12,
   "outputs": [],
   "source": [
    "pearson = PearsonCorrCoef()"
   ],
   "metadata": {
    "collapsed": false,
    "pycharm": {
     "name": "#%%\n"
    }
   }
  },
  {
   "cell_type": "code",
   "execution_count": 15,
   "outputs": [
    {
     "ename": "TypeError",
     "evalue": "dot() got an unexpected keyword argument 'dims'",
     "output_type": "error",
     "traceback": [
      "\u001B[1;31m---------------------------------------------------------------------------\u001B[0m",
      "\u001B[1;31mTypeError\u001B[0m                                 Traceback (most recent call last)",
      "Input \u001B[1;32mIn [15]\u001B[0m, in \u001B[0;36m<cell line: 1>\u001B[1;34m()\u001B[0m\n\u001B[1;32m----> 1\u001B[0m product \u001B[38;5;241m=\u001B[39m \u001B[43mtorch\u001B[49m\u001B[38;5;241;43m.\u001B[39;49m\u001B[43mdot\u001B[49m\u001B[43m(\u001B[49m\u001B[43mx\u001B[49m\u001B[43m,\u001B[49m\u001B[43m \u001B[49m\u001B[43my\u001B[49m\u001B[43m,\u001B[49m\u001B[43m \u001B[49m\u001B[43mdims\u001B[49m\u001B[38;5;241;43m=\u001B[39;49m\u001B[43m(\u001B[49m\u001B[43m[\u001B[49m\u001B[38;5;241;43m1\u001B[39;49m\u001B[43m,\u001B[49m\u001B[43m \u001B[49m\u001B[38;5;241;43m0\u001B[39;49m\u001B[43m]\u001B[49m\u001B[43m)\u001B[49m\u001B[43m)\u001B[49m\n",
      "\u001B[1;31mTypeError\u001B[0m: dot() got an unexpected keyword argument 'dims'"
     ]
    }
   ],
   "source": [
    "product = torch.dot(x, y, dims=([1, 0]))"
   ],
   "metadata": {
    "collapsed": false,
    "pycharm": {
     "name": "#%%\n"
    }
   }
  },
  {
   "cell_type": "code",
   "execution_count": 9,
   "outputs": [
    {
     "data": {
      "text/plain": "tensor([[[[ 3.1194e-01,  3.8350e-02],\n          [ 1.7973e-01, -5.3951e-01],\n          [ 1.3002e+00,  7.8278e-01],\n          ...,\n          [ 7.3156e-02,  1.0848e-01],\n          [-2.0006e+00, -2.8234e-01],\n          [ 1.0408e+00, -1.2361e+00]],\n\n         [[-4.7850e-01, -5.8827e-02],\n          [-2.7569e-01,  8.2758e-01],\n          [-1.9944e+00, -1.2007e+00],\n          ...,\n          [-1.1222e-01, -1.6640e-01],\n          [ 3.0688e+00,  4.3309e-01],\n          [-1.5966e+00,  1.8962e+00]]],\n\n\n        [[[ 1.9685e-02,  2.4201e-03],\n          [ 1.1342e-02, -3.4046e-02],\n          [ 8.2048e-02,  4.9397e-02],\n          ...,\n          [ 4.6165e-03,  6.8453e-03],\n          [-1.2625e-01, -1.7817e-02],\n          [ 6.5682e-02, -7.8007e-02]],\n\n         [[ 9.8352e-02,  1.2092e-02],\n          [ 5.6667e-02, -1.7010e-01],\n          [ 4.0994e-01,  2.4681e-01],\n          ...,\n          [ 2.3065e-02,  3.4202e-02],\n          [-6.3077e-01, -8.9019e-02],\n          [ 3.2817e-01, -3.8975e-01]]],\n\n\n        [[[ 1.6371e-01,  2.0127e-02],\n          [ 9.4325e-02, -2.8315e-01],\n          [ 6.8237e-01,  4.1082e-01],\n          ...,\n          [ 3.8394e-02,  5.6930e-02],\n          [-1.0500e+00, -1.4818e-01],\n          [ 5.4626e-01, -6.4876e-01]],\n\n         [[-6.6303e-01, -8.1514e-02],\n          [-3.8201e-01,  1.1467e+00],\n          [-2.7636e+00, -1.6638e+00],\n          ...,\n          [-1.5549e-01, -2.3057e-01],\n          [ 4.2523e+00,  6.0011e-01],\n          [-2.2123e+00,  2.6275e+00]]],\n\n\n        ...,\n\n\n        [[[-1.6747e-01, -2.0589e-02],\n          [-9.6491e-02,  2.8965e-01],\n          [-6.9804e-01, -4.2026e-01],\n          ...,\n          [-3.9275e-02, -5.8238e-02],\n          [ 1.0741e+00,  1.5158e-01],\n          [-5.5880e-01,  6.6365e-01]],\n\n         [[ 4.5641e-01,  5.6112e-02],\n          [ 2.6297e-01, -7.8939e-01],\n          [ 1.9024e+00,  1.1453e+00],\n          ...,\n          [ 1.0704e-01,  1.5872e-01],\n          [-2.9271e+00, -4.1310e-01],\n          [ 1.5229e+00, -1.8087e+00]]],\n\n\n        [[[-2.9581e-01, -3.6367e-02],\n          [-1.7043e-01,  5.1161e-01],\n          [-1.2330e+00, -7.4230e-01],\n          ...,\n          [-6.9372e-02, -1.0287e-01],\n          [ 1.8971e+00,  2.6774e-01],\n          [-9.8702e-01,  1.1722e+00]],\n\n         [[-1.0013e-01, -1.2311e-02],\n          [-5.7693e-02,  1.7319e-01],\n          [-4.1737e-01, -2.5128e-01],\n          ...,\n          [-2.3483e-02, -3.4821e-02],\n          [ 6.4220e-01,  9.0631e-02],\n          [-3.3412e-01,  3.9681e-01]]],\n\n\n        [[[ 2.0757e-01,  2.5519e-02],\n          [ 1.1959e-01, -3.5900e-01],\n          [ 8.6516e-01,  5.2087e-01],\n          ...,\n          [ 4.8678e-02,  7.2181e-02],\n          [-1.3312e+00, -1.8787e-01],\n          [ 6.9259e-01, -8.2254e-01]],\n\n         [[-4.6303e-02, -5.6925e-03],\n          [-2.6678e-02,  8.0083e-02],\n          [-1.9300e-01, -1.1619e-01],\n          ...,\n          [-1.0859e-02, -1.6102e-02],\n          [ 2.9696e-01,  4.1909e-02],\n          [-1.5450e-01,  1.8349e-01]]]])"
     },
     "execution_count": 9,
     "metadata": {},
     "output_type": "execute_result"
    }
   ],
   "source": [
    "product"
   ],
   "metadata": {
    "collapsed": false,
    "pycharm": {
     "name": "#%%\n"
    }
   }
  },
  {
   "cell_type": "code",
   "execution_count": null,
   "outputs": [],
   "source": [],
   "metadata": {
    "collapsed": false,
    "pycharm": {
     "name": "#%%\n"
    }
   }
  }
 ],
 "metadata": {
  "kernelspec": {
   "display_name": "Python 3",
   "language": "python",
   "name": "python3"
  },
  "language_info": {
   "codemirror_mode": {
    "name": "ipython",
    "version": 2
   },
   "file_extension": ".py",
   "mimetype": "text/x-python",
   "name": "python",
   "nbconvert_exporter": "python",
   "pygments_lexer": "ipython2",
   "version": "2.7.6"
  }
 },
 "nbformat": 4,
 "nbformat_minor": 0
}