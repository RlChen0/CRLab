{
 "cells": [
  {
   "cell_type": "code",
   "execution_count": 1,
   "outputs": [],
   "source": [
    "import torch\n",
    "import torchmetrics\n",
    "from torch import nn\n",
    "import module.resnet as resnet\n",
    "import module.utils as utils\n",
    "from torchinfo import summary\n",
    "from torchvision import transforms\n",
    "from module.data import CfImageDataset\n",
    "from tqdm import tqdm\n",
    "import time\n",
    "import numpy as np\n",
    "import pandas as pd"
   ],
   "metadata": {
    "collapsed": false,
    "pycharm": {
     "name": "#%%\n"
    }
   }
  },
  {
   "cell_type": "code",
   "execution_count": 2,
   "outputs": [],
   "source": [
    "np.random.seed(1)\n",
    "torch.manual_seed(1)\n",
    "torch.cuda.manual_seed(1)\n",
    "torch.backends.cudnn.benchmark = True"
   ],
   "metadata": {
    "collapsed": false,
    "pycharm": {
     "name": "#%%\n"
    }
   }
  },
  {
   "cell_type": "code",
   "execution_count": 3,
   "outputs": [],
   "source": [
    "data_transforms = transforms.Compose([\n",
    "    transforms.RandomHorizontalFlip(),\n",
    "    transforms.RandomVerticalFlip()\n",
    "])"
   ],
   "metadata": {
    "collapsed": false,
    "pycharm": {
     "name": "#%%\n"
    }
   }
  },
  {
   "cell_type": "code",
   "execution_count": 4,
   "outputs": [],
   "source": [
    "train_dataset = CfImageDataset(\"F:/DATA/classify-leaves/train.csv\", \"F:/DATA/classify-leaves/\", mode=\"train\", transform=data_transforms)\n",
    "valid_dataset = CfImageDataset(\"F:/DATA/classify-leaves/train.csv\", \"F:/DATA/classify-leaves/\", mode=\"valid\")"
   ],
   "metadata": {
    "collapsed": false,
    "pycharm": {
     "name": "#%%\n"
    }
   }
  },
  {
   "cell_type": "code",
   "execution_count": 6,
   "outputs": [],
   "source": [
    "train_loader = torch.utils.data.DataLoader(\n",
    "        dataset=train_dataset,\n",
    "        batch_size=16,\n",
    "        shuffle=False,\n",
    "        num_workers=0,\n",
    "        drop_last=True\n",
    "    )\n",
    "valid_loader = torch.utils.data.DataLoader(\n",
    "        dataset=valid_dataset,\n",
    "        batch_size=16,\n",
    "        shuffle=False,\n",
    "        num_workers=0\n",
    "    )"
   ],
   "metadata": {
    "collapsed": false,
    "pycharm": {
     "name": "#%%\n"
    }
   }
  },
  {
   "cell_type": "code",
   "execution_count": 7,
   "outputs": [],
   "source": [
    "net = resnet.ResNet(64, 176, 4)"
   ],
   "metadata": {
    "collapsed": false,
    "pycharm": {
     "name": "#%%\n"
    }
   }
  },
  {
   "cell_type": "code",
   "execution_count": 8,
   "outputs": [],
   "source": [
    "loss_fn = nn.CrossEntropyLoss()"
   ],
   "metadata": {
    "collapsed": false,
    "pycharm": {
     "name": "#%%\n"
    }
   }
  },
  {
   "cell_type": "code",
   "execution_count": 9,
   "outputs": [],
   "source": [
    "use_cuda = torch.cuda.is_available()\n",
    "if use_cuda:\n",
    "    net = net.cuda()"
   ],
   "metadata": {
    "collapsed": false,
    "pycharm": {
     "name": "#%%\n"
    }
   }
  },
  {
   "cell_type": "code",
   "execution_count": 23,
   "outputs": [],
   "source": [
    "optim = torch.optim.Adam(net.parameters(), lr=0.001)\n",
    "Accuracy = torchmetrics.Accuracy().to(torch.device(\"cuda\", 0))\n",
    "Mean = torchmetrics.MeanMetric().to(torch.device(\"cuda\", 0))"
   ],
   "metadata": {
    "collapsed": false,
    "pycharm": {
     "name": "#%%\n"
    }
   }
  },
  {
   "cell_type": "code",
   "execution_count": 35,
   "outputs": [],
   "source": [
    "def train_step(x, y):\n",
    "    pred = net(x)\n",
    "    loss = loss_fn(pred, y)\n",
    "    optim.zero_grad()\n",
    "    loss.backward()\n",
    "    optim.step()\n",
    "    Accuracy.update(pred, y)\n",
    "    Mean.update(loss)"
   ],
   "metadata": {
    "collapsed": false,
    "pycharm": {
     "name": "#%%\n"
    }
   }
  },
  {
   "cell_type": "code",
   "execution_count": 36,
   "outputs": [],
   "source": [
    "def eval_step(x, y):\n",
    "    pred = net(x)\n",
    "    loss = loss_fn(pred, y)\n",
    "    Accuracy.update(pred, y)\n",
    "    Mean.update(loss)"
   ],
   "metadata": {
    "collapsed": false,
    "pycharm": {
     "name": "#%%\n"
    }
   }
  },
  {
   "cell_type": "code",
   "execution_count": 39,
   "outputs": [
    {
     "name": "stderr",
     "output_type": "stream",
     "text": [
      "Compute efficiency: 0.69, epoch: 0/10, loss: 0.45663, accuracy: 0.86831:   2%|▏         | 21/1032 [00:02<02:17,  7.35it/s]\n"
     ]
    },
    {
     "ename": "KeyboardInterrupt",
     "evalue": "",
     "output_type": "error",
     "traceback": [
      "\u001B[1;31m---------------------------------------------------------------------------\u001B[0m",
      "\u001B[1;31mKeyboardInterrupt\u001B[0m                         Traceback (most recent call last)",
      "Input \u001B[1;32mIn [39]\u001B[0m, in \u001B[0;36m<cell line: 2>\u001B[1;34m()\u001B[0m\n\u001B[0;32m     15\u001B[0m     label \u001B[38;5;241m=\u001B[39m label\u001B[38;5;241m.\u001B[39mcuda()\n\u001B[0;32m     16\u001B[0m prepare_time \u001B[38;5;241m=\u001B[39m start_time \u001B[38;5;241m-\u001B[39m time\u001B[38;5;241m.\u001B[39mtime()\n\u001B[1;32m---> 17\u001B[0m \u001B[43mtrain_step\u001B[49m\u001B[43m(\u001B[49m\u001B[43mimg\u001B[49m\u001B[43m,\u001B[49m\u001B[43m \u001B[49m\u001B[43mlabel\u001B[49m\u001B[43m)\u001B[49m\n\u001B[0;32m     18\u001B[0m \u001B[38;5;66;03m# compute computation time and *compute_efficiency*\u001B[39;00m\n\u001B[0;32m     19\u001B[0m process_time \u001B[38;5;241m=\u001B[39m start_time \u001B[38;5;241m-\u001B[39m time\u001B[38;5;241m.\u001B[39mtime() \u001B[38;5;241m-\u001B[39m prepare_time\n",
      "Input \u001B[1;32mIn [35]\u001B[0m, in \u001B[0;36mtrain_step\u001B[1;34m(x, y)\u001B[0m\n\u001B[0;32m      5\u001B[0m loss\u001B[38;5;241m.\u001B[39mbackward()\n\u001B[0;32m      6\u001B[0m optim\u001B[38;5;241m.\u001B[39mstep()\n\u001B[1;32m----> 7\u001B[0m \u001B[43mAccuracy\u001B[49m\u001B[38;5;241;43m.\u001B[39;49m\u001B[43mupdate\u001B[49m\u001B[43m(\u001B[49m\u001B[43mpred\u001B[49m\u001B[43m,\u001B[49m\u001B[43m \u001B[49m\u001B[43my\u001B[49m\u001B[43m)\u001B[49m\n\u001B[0;32m      8\u001B[0m Mean\u001B[38;5;241m.\u001B[39mupdate(loss)\n",
      "File \u001B[1;32mD:\\Software\\MiniConda\\envs\\pt\\lib\\site-packages\\torchmetrics\\metric.py:312\u001B[0m, in \u001B[0;36mMetric._wrap_update.<locals>.wrapped_func\u001B[1;34m(*args, **kwargs)\u001B[0m\n\u001B[0;32m    310\u001B[0m \u001B[38;5;28mself\u001B[39m\u001B[38;5;241m.\u001B[39m_update_called \u001B[38;5;241m=\u001B[39m \u001B[38;5;28;01mTrue\u001B[39;00m\n\u001B[0;32m    311\u001B[0m \u001B[38;5;28;01mwith\u001B[39;00m torch\u001B[38;5;241m.\u001B[39mset_grad_enabled(\u001B[38;5;28mself\u001B[39m\u001B[38;5;241m.\u001B[39m_enable_grad):\n\u001B[1;32m--> 312\u001B[0m     \u001B[43mupdate\u001B[49m\u001B[43m(\u001B[49m\u001B[38;5;241;43m*\u001B[39;49m\u001B[43margs\u001B[49m\u001B[43m,\u001B[49m\u001B[43m \u001B[49m\u001B[38;5;241;43m*\u001B[39;49m\u001B[38;5;241;43m*\u001B[39;49m\u001B[43mkwargs\u001B[49m\u001B[43m)\u001B[49m\n\u001B[0;32m    313\u001B[0m \u001B[38;5;28;01mif\u001B[39;00m \u001B[38;5;28mself\u001B[39m\u001B[38;5;241m.\u001B[39mcompute_on_cpu:\n\u001B[0;32m    314\u001B[0m     \u001B[38;5;28mself\u001B[39m\u001B[38;5;241m.\u001B[39m_move_list_states_to_cpu()\n",
      "File \u001B[1;32mD:\\Software\\MiniConda\\envs\\pt\\lib\\site-packages\\torchmetrics\\classification\\accuracy.py:222\u001B[0m, in \u001B[0;36mAccuracy.update\u001B[1;34m(self, preds, target)\u001B[0m\n\u001B[0;32m    213\u001B[0m \u001B[38;5;124;03m\"\"\"Update state with predictions and targets. See\u001B[39;00m\n\u001B[0;32m    214\u001B[0m \u001B[38;5;124;03m:ref:`pages/classification:input types` for more information on input\u001B[39;00m\n\u001B[0;32m    215\u001B[0m \u001B[38;5;124;03mtypes.\u001B[39;00m\n\u001B[1;32m   (...)\u001B[0m\n\u001B[0;32m    219\u001B[0m \u001B[38;5;124;03m    target: Ground truth labels\u001B[39;00m\n\u001B[0;32m    220\u001B[0m \u001B[38;5;124;03m\"\"\"\u001B[39;00m\n\u001B[0;32m    221\u001B[0m \u001B[38;5;124;03m\"\"\" returns the mode of the data (binary, multi label, multi class, multi-dim multi class) \"\"\"\u001B[39;00m\n\u001B[1;32m--> 222\u001B[0m mode \u001B[38;5;241m=\u001B[39m \u001B[43m_mode\u001B[49m\u001B[43m(\u001B[49m\u001B[43mpreds\u001B[49m\u001B[43m,\u001B[49m\u001B[43m \u001B[49m\u001B[43mtarget\u001B[49m\u001B[43m,\u001B[49m\u001B[43m \u001B[49m\u001B[38;5;28;43mself\u001B[39;49m\u001B[38;5;241;43m.\u001B[39;49m\u001B[43mthreshold\u001B[49m\u001B[43m,\u001B[49m\u001B[43m \u001B[49m\u001B[38;5;28;43mself\u001B[39;49m\u001B[38;5;241;43m.\u001B[39;49m\u001B[43mtop_k\u001B[49m\u001B[43m,\u001B[49m\u001B[43m \u001B[49m\u001B[38;5;28;43mself\u001B[39;49m\u001B[38;5;241;43m.\u001B[39;49m\u001B[43mnum_classes\u001B[49m\u001B[43m,\u001B[49m\u001B[43m \u001B[49m\u001B[38;5;28;43mself\u001B[39;49m\u001B[38;5;241;43m.\u001B[39;49m\u001B[43mmulticlass\u001B[49m\u001B[43m,\u001B[49m\u001B[43m \u001B[49m\u001B[38;5;28;43mself\u001B[39;49m\u001B[38;5;241;43m.\u001B[39;49m\u001B[43mignore_index\u001B[49m\u001B[43m)\u001B[49m\n\u001B[0;32m    224\u001B[0m \u001B[38;5;28;01mif\u001B[39;00m \u001B[38;5;129;01mnot\u001B[39;00m \u001B[38;5;28mself\u001B[39m\u001B[38;5;241m.\u001B[39mmode:\n\u001B[0;32m    225\u001B[0m     \u001B[38;5;28mself\u001B[39m\u001B[38;5;241m.\u001B[39mmode \u001B[38;5;241m=\u001B[39m mode\n",
      "File \u001B[1;32mD:\\Software\\MiniConda\\envs\\pt\\lib\\site-packages\\torchmetrics\\functional\\classification\\accuracy.py:59\u001B[0m, in \u001B[0;36m_mode\u001B[1;34m(preds, target, threshold, top_k, num_classes, multiclass, ignore_index)\u001B[0m\n\u001B[0;32m     29\u001B[0m \u001B[38;5;28;01mdef\u001B[39;00m \u001B[38;5;21m_mode\u001B[39m(\n\u001B[0;32m     30\u001B[0m     preds: Tensor,\n\u001B[0;32m     31\u001B[0m     target: Tensor,\n\u001B[1;32m   (...)\u001B[0m\n\u001B[0;32m     36\u001B[0m     ignore_index: Optional[\u001B[38;5;28mint\u001B[39m] \u001B[38;5;241m=\u001B[39m \u001B[38;5;28;01mNone\u001B[39;00m,\n\u001B[0;32m     37\u001B[0m ) \u001B[38;5;241m-\u001B[39m\u001B[38;5;241m>\u001B[39m DataType:\n\u001B[0;32m     38\u001B[0m     \u001B[38;5;124;03m\"\"\"Finds the mode of the input tensors.\u001B[39;00m\n\u001B[0;32m     39\u001B[0m \n\u001B[0;32m     40\u001B[0m \u001B[38;5;124;03m    Args:\u001B[39;00m\n\u001B[1;32m   (...)\u001B[0m\n\u001B[0;32m     56\u001B[0m \u001B[38;5;124;03m        <DataType.MULTICLASS: 'multi-class'>\u001B[39;00m\n\u001B[0;32m     57\u001B[0m \u001B[38;5;124;03m    \"\"\"\u001B[39;00m\n\u001B[1;32m---> 59\u001B[0m     mode \u001B[38;5;241m=\u001B[39m \u001B[43m_check_classification_inputs\u001B[49m\u001B[43m(\u001B[49m\n\u001B[0;32m     60\u001B[0m \u001B[43m        \u001B[49m\u001B[43mpreds\u001B[49m\u001B[43m,\u001B[49m\n\u001B[0;32m     61\u001B[0m \u001B[43m        \u001B[49m\u001B[43mtarget\u001B[49m\u001B[43m,\u001B[49m\n\u001B[0;32m     62\u001B[0m \u001B[43m        \u001B[49m\u001B[43mthreshold\u001B[49m\u001B[38;5;241;43m=\u001B[39;49m\u001B[43mthreshold\u001B[49m\u001B[43m,\u001B[49m\n\u001B[0;32m     63\u001B[0m \u001B[43m        \u001B[49m\u001B[43mtop_k\u001B[49m\u001B[38;5;241;43m=\u001B[39;49m\u001B[43mtop_k\u001B[49m\u001B[43m,\u001B[49m\n\u001B[0;32m     64\u001B[0m \u001B[43m        \u001B[49m\u001B[43mnum_classes\u001B[49m\u001B[38;5;241;43m=\u001B[39;49m\u001B[43mnum_classes\u001B[49m\u001B[43m,\u001B[49m\n\u001B[0;32m     65\u001B[0m \u001B[43m        \u001B[49m\u001B[43mmulticlass\u001B[49m\u001B[38;5;241;43m=\u001B[39;49m\u001B[43mmulticlass\u001B[49m\u001B[43m,\u001B[49m\n\u001B[0;32m     66\u001B[0m \u001B[43m        \u001B[49m\u001B[43mignore_index\u001B[49m\u001B[38;5;241;43m=\u001B[39;49m\u001B[43mignore_index\u001B[49m\u001B[43m,\u001B[49m\n\u001B[0;32m     67\u001B[0m \u001B[43m    \u001B[49m\u001B[43m)\u001B[49m\n\u001B[0;32m     68\u001B[0m     \u001B[38;5;28;01mreturn\u001B[39;00m mode\n",
      "File \u001B[1;32mD:\\Software\\MiniConda\\envs\\pt\\lib\\site-packages\\torchmetrics\\utilities\\checks.py:265\u001B[0m, in \u001B[0;36m_check_classification_inputs\u001B[1;34m(preds, target, threshold, num_classes, multiclass, top_k, ignore_index)\u001B[0m\n\u001B[0;32m    212\u001B[0m \u001B[38;5;124;03m\"\"\"Performs error checking on inputs for classification.\u001B[39;00m\n\u001B[0;32m    213\u001B[0m \n\u001B[0;32m    214\u001B[0m \u001B[38;5;124;03mThis ensures that preds and target take one of the shape/type combinations that are\u001B[39;00m\n\u001B[1;32m   (...)\u001B[0m\n\u001B[0;32m    261\u001B[0m \u001B[38;5;124;03m        'multi-dim multi-class'\u001B[39;00m\n\u001B[0;32m    262\u001B[0m \u001B[38;5;124;03m\"\"\"\u001B[39;00m\n\u001B[0;32m    264\u001B[0m \u001B[38;5;66;03m# Basic validation (that does not need case/type information)\u001B[39;00m\n\u001B[1;32m--> 265\u001B[0m \u001B[43m_basic_input_validation\u001B[49m\u001B[43m(\u001B[49m\u001B[43mpreds\u001B[49m\u001B[43m,\u001B[49m\u001B[43m \u001B[49m\u001B[43mtarget\u001B[49m\u001B[43m,\u001B[49m\u001B[43m \u001B[49m\u001B[43mthreshold\u001B[49m\u001B[43m,\u001B[49m\u001B[43m \u001B[49m\u001B[43mmulticlass\u001B[49m\u001B[43m,\u001B[49m\u001B[43m \u001B[49m\u001B[43mignore_index\u001B[49m\u001B[43m)\u001B[49m\n\u001B[0;32m    267\u001B[0m \u001B[38;5;66;03m# Check that shape/types fall into one of the cases\u001B[39;00m\n\u001B[0;32m    268\u001B[0m case, implied_classes \u001B[38;5;241m=\u001B[39m _check_shape_and_type_consistency(preds, target)\n",
      "File \u001B[1;32mD:\\Software\\MiniConda\\envs\\pt\\lib\\site-packages\\torchmetrics\\utilities\\checks.py:46\u001B[0m, in \u001B[0;36m_basic_input_validation\u001B[1;34m(preds, target, threshold, multiclass, ignore_index)\u001B[0m\n\u001B[0;32m     43\u001B[0m \u001B[38;5;28;01mif\u001B[39;00m target\u001B[38;5;241m.\u001B[39mis_floating_point():\n\u001B[0;32m     44\u001B[0m     \u001B[38;5;28;01mraise\u001B[39;00m \u001B[38;5;167;01mValueError\u001B[39;00m(\u001B[38;5;124m\"\u001B[39m\u001B[38;5;124mThe `target` has to be an integer tensor.\u001B[39m\u001B[38;5;124m\"\u001B[39m)\n\u001B[1;32m---> 46\u001B[0m \u001B[38;5;28;01mif\u001B[39;00m ignore_index \u001B[38;5;129;01mis\u001B[39;00m \u001B[38;5;28;01mNone\u001B[39;00m \u001B[38;5;129;01mand\u001B[39;00m \u001B[43mtarget\u001B[49m\u001B[38;5;241;43m.\u001B[39;49m\u001B[43mmin\u001B[49m\u001B[43m(\u001B[49m\u001B[43m)\u001B[49m\u001B[43m \u001B[49m\u001B[38;5;241;43m<\u001B[39;49m\u001B[43m \u001B[49m\u001B[38;5;241;43m0\u001B[39;49m:\n\u001B[0;32m     47\u001B[0m     \u001B[38;5;28;01mraise\u001B[39;00m \u001B[38;5;167;01mValueError\u001B[39;00m(\u001B[38;5;124m\"\u001B[39m\u001B[38;5;124mThe `target` has to be a non-negative tensor.\u001B[39m\u001B[38;5;124m\"\u001B[39m)\n\u001B[0;32m     48\u001B[0m \u001B[38;5;28;01melif\u001B[39;00m ignore_index \u001B[38;5;129;01mis\u001B[39;00m \u001B[38;5;129;01mnot\u001B[39;00m \u001B[38;5;28;01mNone\u001B[39;00m \u001B[38;5;129;01mand\u001B[39;00m ignore_index \u001B[38;5;241m>\u001B[39m\u001B[38;5;241m=\u001B[39m \u001B[38;5;241m0\u001B[39m \u001B[38;5;129;01mand\u001B[39;00m target\u001B[38;5;241m.\u001B[39mmin() \u001B[38;5;241m<\u001B[39m \u001B[38;5;241m0\u001B[39m:\n",
      "\u001B[1;31mKeyboardInterrupt\u001B[0m: "
     ]
    }
   ],
   "source": [
    "n_iter = 0\n",
    "for epoch in range(0, 10):\n",
    "    # set models to train mode\n",
    "    net.train()\n",
    "    # use prefetch_generator and tqdm for iterating through data\n",
    "    pbar = tqdm(enumerate(train_loader), total=len(train_loader))\n",
    "    start_time = time.time()\n",
    "\n",
    "    # for loop going through dataset\n",
    "    for i, data in pbar:\n",
    "        # data preparation\n",
    "        img, label = data\n",
    "        if use_cuda:\n",
    "            img = img.cuda()\n",
    "            label = label.cuda()\n",
    "        prepare_time = start_time - time.time()\n",
    "        train_step(img, label)\n",
    "        # compute computation time and *compute_efficiency*\n",
    "        process_time = start_time - time.time() - prepare_time\n",
    "        pbar.set_description(\"Compute efficiency: {:.2f}, epoch: {}/{}, loss: {:.5f}, accuracy: {:.5f}\".format(\n",
    "            process_time / (process_time + prepare_time), epoch, 10, Mean.compute(), Accuracy.compute()))\n",
    "        start_time = time.time()\n",
    "    Accuracy.reset()\n",
    "    Mean.reset()\n",
    "    if epoch % 2 == 2-1:\n",
    "        # bring models to evaluation mode\n",
    "        net.eval()\n",
    "        #do some tests\n",
    "        pbar = tqdm(enumerate(valid_loader),\n",
    "                total=len(valid_loader))\n",
    "        for i, data in pbar:\n",
    "            img, label = data\n",
    "            if use_cuda:\n",
    "                img = img.cuda()\n",
    "                label = label.cuda()\n",
    "            eval_step(img, label)\n",
    "        print(\"valid loss: {}, valid accuracy: {}\".format(Mean.compute(), Accuracy.compute()))\n",
    "        Accuracy.reset()\n",
    "        Mean.reset()"
   ],
   "metadata": {
    "collapsed": false,
    "pycharm": {
     "name": "#%%\n"
    }
   }
  }
 ],
 "metadata": {
  "kernelspec": {
   "display_name": "Python 3",
   "language": "python",
   "name": "python3"
  },
  "language_info": {
   "codemirror_mode": {
    "name": "ipython",
    "version": 2
   },
   "file_extension": ".py",
   "mimetype": "text/x-python",
   "name": "python",
   "nbconvert_exporter": "python",
   "pygments_lexer": "ipython2",
   "version": "2.7.6"
  }
 },
 "nbformat": 4,
 "nbformat_minor": 0
}