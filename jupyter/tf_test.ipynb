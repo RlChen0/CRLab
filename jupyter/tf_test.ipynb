{
 "cells": [
  {
   "cell_type": "code",
   "execution_count": 2,
   "outputs": [],
   "source": [
    "import tensorflow as tf"
   ],
   "metadata": {
    "collapsed": false,
    "pycharm": {
     "name": "#%%\n"
    }
   }
  },
  {
   "cell_type": "code",
   "execution_count": 3,
   "outputs": [],
   "source": [
    "class R2(tf.keras.metrics.Metric):\n",
    "  def __init__(self, num_targets, summarize=True, name='r2', **kwargs):\n",
    "    super(R2, self).__init__(name=name, **kwargs)\n",
    "    self._summarize = summarize\n",
    "    self._shape = (num_targets,)\n",
    "    self._count = self.add_weight(name='count', shape=self._shape, initializer='zeros')\n",
    "\n",
    "    self._true_sum = self.add_weight(name='true_sum', shape=self._shape, initializer='zeros')\n",
    "    self._true_sumsq = self.add_weight(name='true_sumsq', shape=self._shape, initializer='zeros')\n",
    "\n",
    "    self._product = self.add_weight(name='product', shape=self._shape, initializer='zeros')\n",
    "    self._pred_sumsq = self.add_weight(name='pred_sumsq', shape=self._shape, initializer='zeros')\n",
    "\n",
    "  def update_state(self, y_true, y_pred, sample_weight=None):\n",
    "    y_true = tf.cast(y_true, 'float32')\n",
    "    y_pred = tf.cast(y_pred, 'float32')\n",
    "\n",
    "    if len(y_true.shape) == 2:\n",
    "      reduce_axes = 0\n",
    "    else:\n",
    "      reduce_axes = [0,1]\n",
    "\n",
    "    true_sum = tf.reduce_sum(y_true, axis=reduce_axes)\n",
    "    self._true_sum.assign_add(true_sum)\n",
    "\n",
    "    true_sumsq = tf.reduce_sum(tf.math.square(y_true), axis=reduce_axes)\n",
    "    self._true_sumsq.assign_add(true_sumsq)\n",
    "\n",
    "    product = tf.reduce_sum(tf.multiply(y_true, y_pred), axis=reduce_axes)\n",
    "    self._product.assign_add(product)\n",
    "\n",
    "    pred_sumsq = tf.reduce_sum(tf.math.square(y_pred), axis=reduce_axes)\n",
    "    self._pred_sumsq.assign_add(pred_sumsq)\n",
    "\n",
    "    count = tf.ones_like(y_true)\n",
    "    count = tf.reduce_sum(count, axis=reduce_axes)\n",
    "    self._count.assign_add(count)\n",
    "\n",
    "  def result(self):\n",
    "    true_mean = tf.divide(self._true_sum, self._count)\n",
    "    true_mean2 = tf.math.square(true_mean)\n",
    "\n",
    "    total = self._true_sumsq - tf.multiply(self._count, true_mean2)\n",
    "\n",
    "    resid1 = self._pred_sumsq\n",
    "    resid2 = -2*self._product\n",
    "    resid3 = self._true_sumsq\n",
    "    resid = resid1 + resid2 + resid3\n",
    "\n",
    "    r2 = tf.ones_like(self._shape, dtype=tf.float32) - tf.divide(resid, total)\n",
    "\n",
    "    if self._summarize:\n",
    "        return tf.reduce_mean(r2)\n",
    "    else:\n",
    "        return r2\n",
    "\n",
    "  def reset_state(self):\n",
    "    K.batch_set_value([(v, np.zeros(self._shape)) for v in self.variables])"
   ],
   "metadata": {
    "collapsed": false,
    "pycharm": {
     "name": "#%%\n"
    }
   }
  },
  {
   "cell_type": "code",
   "execution_count": 10,
   "outputs": [
    {
     "data": {
      "text/plain": "<tf.Tensor: shape=(1,), dtype=float32, numpy=array([1.], dtype=float32)>"
     },
     "execution_count": 10,
     "metadata": {},
     "output_type": "execute_result"
    }
   ],
   "source": [
    "tf.ones_like(\n",
    "  (54,), dtype=tf.float32)"
   ],
   "metadata": {
    "collapsed": false,
    "pycharm": {
     "name": "#%%\n"
    }
   }
  },
  {
   "cell_type": "code",
   "execution_count": 4,
   "outputs": [],
   "source": [
    "x = tf.constant([[3],\n",
    "                  [-0.5],\n",
    "                  [2],\n",
    "                  [7]])\n",
    "y = tf.constant([[2.5],\n",
    "                 [0.0],\n",
    "                 [2],\n",
    "                 [8]])"
   ],
   "metadata": {
    "collapsed": false,
    "pycharm": {
     "name": "#%%\n"
    }
   }
  },
  {
   "cell_type": "code",
   "execution_count": 5,
   "outputs": [
    {
     "data": {
      "text/plain": "<tf.Tensor: shape=(4, 1), dtype=float32, numpy=\narray([[ 3. ],\n       [-0.5],\n       [ 2. ],\n       [ 7. ]], dtype=float32)>"
     },
     "execution_count": 5,
     "metadata": {},
     "output_type": "execute_result"
    }
   ],
   "source": [
    "x"
   ],
   "metadata": {
    "collapsed": false,
    "pycharm": {
     "name": "#%%\n"
    }
   }
  },
  {
   "cell_type": "code",
   "execution_count": 6,
   "outputs": [],
   "source": [
    "pearsonr = R2(num_targets=1, summarize=False)"
   ],
   "metadata": {
    "collapsed": false,
    "pycharm": {
     "name": "#%%\n"
    }
   }
  },
  {
   "cell_type": "code",
   "execution_count": 7,
   "outputs": [],
   "source": [
    "pearsonr.update_state(x, y)"
   ],
   "metadata": {
    "collapsed": false,
    "pycharm": {
     "name": "#%%\n"
    }
   }
  },
  {
   "cell_type": "code",
   "execution_count": 8,
   "outputs": [
    {
     "data": {
      "text/plain": "<tf.Tensor: shape=(1,), dtype=float32, numpy=array([0.94860816], dtype=float32)>"
     },
     "execution_count": 8,
     "metadata": {},
     "output_type": "execute_result"
    }
   ],
   "source": [
    "pearsonr.result()"
   ],
   "metadata": {
    "collapsed": false,
    "pycharm": {
     "name": "#%%\n"
    }
   }
  },
  {
   "cell_type": "code",
   "execution_count": null,
   "outputs": [],
   "source": [],
   "metadata": {
    "collapsed": false,
    "pycharm": {
     "name": "#%%\n"
    }
   }
  }
 ],
 "metadata": {
  "kernelspec": {
   "display_name": "Python 3",
   "language": "python",
   "name": "python3"
  },
  "language_info": {
   "codemirror_mode": {
    "name": "ipython",
    "version": 2
   },
   "file_extension": ".py",
   "mimetype": "text/x-python",
   "name": "python",
   "nbconvert_exporter": "python",
   "pygments_lexer": "ipython2",
   "version": "2.7.6"
  }
 },
 "nbformat": 4,
 "nbformat_minor": 0
}