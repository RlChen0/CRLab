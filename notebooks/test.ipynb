{
 "cells": [
  {
   "cell_type": "code",
   "execution_count": 3,
   "outputs": [],
   "source": [
    "from torch.utils import data\n",
    "from src.data.transforms.build import build_transform\n",
    "from src.modeling.meta_arch.build import build_model\n",
    "from yacs.config import CfgNode\n",
    "from torch import nn\n",
    "from src.config.defaults import combine_cfgs\n",
    "from src.data.transforms.build import TRANSFORM_REGISTRY\n"
   ],
   "metadata": {
    "collapsed": false,
    "pycharm": {
     "name": "#%%\n"
    }
   }
  },
  {
   "cell_type": "code",
   "execution_count": 9,
   "outputs": [
    {
     "ename": "KeyError",
     "evalue": "'baseline'",
     "output_type": "error",
     "traceback": [
      "\u001B[1;31m---------------------------------------------------------------------------\u001B[0m",
      "\u001B[1;31mKeyError\u001B[0m                                  Traceback (most recent call last)",
      "Input \u001B[1;32mIn [9]\u001B[0m, in \u001B[0;36m<cell line: 2>\u001B[1;34m()\u001B[0m\n\u001B[0;32m      1\u001B[0m cfg \u001B[38;5;241m=\u001B[39m combine_cfgs(\u001B[38;5;124m'\u001B[39m\u001B[38;5;124m../src/config/experiment/test.yaml\u001B[39m\u001B[38;5;124m'\u001B[39m)\n\u001B[1;32m----> 2\u001B[0m transforms \u001B[38;5;241m=\u001B[39m \u001B[43mbuild_model\u001B[49m\u001B[43m(\u001B[49m\u001B[43mcfg\u001B[49m\u001B[38;5;241;43m.\u001B[39;49m\u001B[43mMODEL\u001B[49m\u001B[43m)\u001B[49m\n",
      "File \u001B[1;32mF:\\CRLab\\src\\modeling\\meta_arch\\build.py:15\u001B[0m, in \u001B[0;36mbuild_model\u001B[1;34m(model_cfg)\u001B[0m\n\u001B[0;32m      9\u001B[0m \u001B[38;5;124;03m\"\"\"\u001B[39;00m\n\u001B[0;32m     10\u001B[0m \u001B[38;5;124;03mbuild model\u001B[39;00m\n\u001B[0;32m     11\u001B[0m \u001B[38;5;124;03m:param model_cfg: model config blob\u001B[39;00m\n\u001B[0;32m     12\u001B[0m \u001B[38;5;124;03m:return: model\u001B[39;00m\n\u001B[0;32m     13\u001B[0m \u001B[38;5;124;03m\"\"\"\u001B[39;00m\n\u001B[0;32m     14\u001B[0m meta_arch \u001B[38;5;241m=\u001B[39m model_cfg\u001B[38;5;241m.\u001B[39mMETA_ARCHITECTURE\n\u001B[1;32m---> 15\u001B[0m model \u001B[38;5;241m=\u001B[39m \u001B[43mMETA_ARCH_REGISTRY\u001B[49m\u001B[43m[\u001B[49m\u001B[43mmeta_arch\u001B[49m\u001B[43m]\u001B[49m(model_cfg)\n\u001B[0;32m     17\u001B[0m \u001B[38;5;28;01mreturn\u001B[39;00m model\n",
      "\u001B[1;31mKeyError\u001B[0m: 'baseline'"
     ]
    }
   ],
   "source": [
    "cfg = combine_cfgs('../src/config/experiment/test.yaml')\n",
    "transforms = build_model(cfg.MODEL)"
   ],
   "metadata": {
    "collapsed": false,
    "pycharm": {
     "name": "#%%\n"
    }
   }
  },
  {
   "cell_type": "code",
   "execution_count": 4,
   "outputs": [
    {
     "data": {
      "text/plain": "{}"
     },
     "execution_count": 4,
     "metadata": {},
     "output_type": "execute_result"
    }
   ],
   "source": [
    "TRANSFORM_REGISTRY"
   ],
   "metadata": {
    "collapsed": false,
    "pycharm": {
     "name": "#%%\n"
    }
   }
  },
  {
   "cell_type": "code",
   "execution_count": 5,
   "outputs": [],
   "source": [
    "@TRANSFORM_REGISTRY.register('HorizonVerticalFlip')\n",
    "def transforms(transform_cfg: CfgNode, mode='train'):\n",
    "    if mode == 'train':\n",
    "        transform = t.Compose([\n",
    "            t.RandomHorizontalFlip(p=transform_cfg.HORIZONTAL_FLIP_PROB),\n",
    "            t.RandomVerticalFlip(p=transform_cfg.VERTICAL_FLIP_PROB)\n",
    "        ])\n",
    "    else:\n",
    "        transform = None\n",
    "    return transform"
   ],
   "metadata": {
    "collapsed": false,
    "pycharm": {
     "name": "#%%\n"
    }
   }
  },
  {
   "cell_type": "code",
   "execution_count": 6,
   "outputs": [
    {
     "data": {
      "text/plain": "{'HorizonVerticalFlip': <function __main__.transforms(transform_cfg: yacs.config.CfgNode, mode='train')>}"
     },
     "execution_count": 6,
     "metadata": {},
     "output_type": "execute_result"
    }
   ],
   "source": [
    "TRANSFORM_REGISTRY"
   ],
   "metadata": {
    "collapsed": false,
    "pycharm": {
     "name": "#%%\n"
    }
   }
  },
  {
   "cell_type": "code",
   "execution_count": 8,
   "outputs": [
    {
     "ename": "NameError",
     "evalue": "name 't' is not defined",
     "output_type": "error",
     "traceback": [
      "\u001B[1;31m---------------------------------------------------------------------------\u001B[0m",
      "\u001B[1;31mNameError\u001B[0m                                 Traceback (most recent call last)",
      "Input \u001B[1;32mIn [8]\u001B[0m, in \u001B[0;36m<cell line: 1>\u001B[1;34m()\u001B[0m\n\u001B[1;32m----> 1\u001B[0m transforms \u001B[38;5;241m=\u001B[39m \u001B[43mbuild_transform\u001B[49m\u001B[43m(\u001B[49m\u001B[43mcfg\u001B[49m\u001B[38;5;241;43m.\u001B[39;49m\u001B[43mDATASET\u001B[49m\u001B[38;5;241;43m.\u001B[39;49m\u001B[43mAUGMENTATION\u001B[49m\u001B[43m)\u001B[49m\n",
      "File \u001B[1;32mF:\\CRLab\\src\\data\\transforms\\build.py:8\u001B[0m, in \u001B[0;36mbuild_transform\u001B[1;34m(transform_cfg, **kwargs)\u001B[0m\n\u001B[0;32m      7\u001B[0m \u001B[38;5;28;01mdef\u001B[39;00m \u001B[38;5;21mbuild_transform\u001B[39m(transform_cfg: CfgNode, \u001B[38;5;241m*\u001B[39m\u001B[38;5;241m*\u001B[39mkwargs) \u001B[38;5;241m-\u001B[39m\u001B[38;5;241m>\u001B[39m nn\u001B[38;5;241m.\u001B[39mModule:\n\u001B[1;32m----> 8\u001B[0m     transform_module \u001B[38;5;241m=\u001B[39m \u001B[43mTRANSFORM_REGISTRY\u001B[49m\u001B[43m[\u001B[49m\u001B[43mtransform_cfg\u001B[49m\u001B[38;5;241;43m.\u001B[39;49m\u001B[43mNAME\u001B[49m\u001B[43m]\u001B[49m\u001B[43m(\u001B[49m\u001B[43mtransform_cfg\u001B[49m\u001B[43m,\u001B[49m\u001B[43m \u001B[49m\u001B[38;5;241;43m*\u001B[39;49m\u001B[38;5;241;43m*\u001B[39;49m\u001B[43mkwargs\u001B[49m\u001B[43m)\u001B[49m\n\u001B[0;32m      9\u001B[0m     \u001B[38;5;28;01mreturn\u001B[39;00m transform_module\n",
      "Input \u001B[1;32mIn [5]\u001B[0m, in \u001B[0;36mtransforms\u001B[1;34m(transform_cfg, mode)\u001B[0m\n\u001B[0;32m      1\u001B[0m \u001B[38;5;129m@TRANSFORM_REGISTRY\u001B[39m\u001B[38;5;241m.\u001B[39mregister(\u001B[38;5;124m'\u001B[39m\u001B[38;5;124mHorizonVerticalFlip\u001B[39m\u001B[38;5;124m'\u001B[39m)\n\u001B[0;32m      2\u001B[0m \u001B[38;5;28;01mdef\u001B[39;00m \u001B[38;5;21mtransforms\u001B[39m(transform_cfg: CfgNode, mode\u001B[38;5;241m=\u001B[39m\u001B[38;5;124m'\u001B[39m\u001B[38;5;124mtrain\u001B[39m\u001B[38;5;124m'\u001B[39m):\n\u001B[0;32m      3\u001B[0m     \u001B[38;5;28;01mif\u001B[39;00m mode \u001B[38;5;241m==\u001B[39m \u001B[38;5;124m'\u001B[39m\u001B[38;5;124mtrain\u001B[39m\u001B[38;5;124m'\u001B[39m:\n\u001B[1;32m----> 4\u001B[0m         transform \u001B[38;5;241m=\u001B[39m \u001B[43mt\u001B[49m\u001B[38;5;241m.\u001B[39mCompose([\n\u001B[0;32m      5\u001B[0m             t\u001B[38;5;241m.\u001B[39mRandomHorizontalFlip(p\u001B[38;5;241m=\u001B[39mtransform_cfg\u001B[38;5;241m.\u001B[39mHORIZONTAL_FLIP_PROB),\n\u001B[0;32m      6\u001B[0m             t\u001B[38;5;241m.\u001B[39mRandomVerticalFlip(p\u001B[38;5;241m=\u001B[39mtransform_cfg\u001B[38;5;241m.\u001B[39mVERTICAL_FLIP_PROB)\n\u001B[0;32m      7\u001B[0m         ])\n\u001B[0;32m      8\u001B[0m     \u001B[38;5;28;01melse\u001B[39;00m:\n\u001B[0;32m      9\u001B[0m         transform \u001B[38;5;241m=\u001B[39m \u001B[38;5;28;01mNone\u001B[39;00m\n",
      "\u001B[1;31mNameError\u001B[0m: name 't' is not defined"
     ]
    }
   ],
   "source": [
    "transforms = build_transform(cfg.DATASET.AUGMENTATION)"
   ],
   "metadata": {
    "collapsed": false,
    "pycharm": {
     "name": "#%%\n"
    }
   }
  },
  {
   "cell_type": "code",
   "execution_count": null,
   "outputs": [],
   "source": [],
   "metadata": {
    "collapsed": false,
    "pycharm": {
     "name": "#%%\n"
    }
   }
  }
 ],
 "metadata": {
  "kernelspec": {
   "display_name": "Python 3",
   "language": "python",
   "name": "python3"
  },
  "language_info": {
   "codemirror_mode": {
    "name": "ipython",
    "version": 2
   },
   "file_extension": ".py",
   "mimetype": "text/x-python",
   "name": "python",
   "nbconvert_exporter": "python",
   "pygments_lexer": "ipython2",
   "version": "2.7.6"
  }
 },
 "nbformat": 4,
 "nbformat_minor": 0
}