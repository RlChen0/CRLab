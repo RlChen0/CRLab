{
 "cells": [
  {
   "cell_type": "code",
   "execution_count": 1,
   "outputs": [],
   "source": [
    "from torch.utils import data\n",
    "from src.data.transforms.build import build_transform\n",
    "from src.modeling.backbone.build import build_backbone\n",
    "from yacs.config import CfgNode\n",
    "from torch import nn\n",
    "from src.config.defaults import combine_cfgs\n",
    "from src.data.transforms.build import TRANSFORM_REGISTRY"
   ],
   "metadata": {
    "collapsed": false,
    "pycharm": {
     "name": "#%%\n"
    }
   }
  },
  {
   "cell_type": "code",
   "execution_count": 3,
   "outputs": [
    {
     "ename": "KeyError",
     "evalue": "'resnet18'",
     "output_type": "error",
     "traceback": [
      "\u001B[1;31m---------------------------------------------------------------------------\u001B[0m",
      "\u001B[1;31mKeyError\u001B[0m                                  Traceback (most recent call last)",
      "Input \u001B[1;32mIn [3]\u001B[0m, in \u001B[0;36m<cell line: 2>\u001B[1;34m()\u001B[0m\n\u001B[0;32m      1\u001B[0m cfg \u001B[38;5;241m=\u001B[39m combine_cfgs(\u001B[38;5;124m'\u001B[39m\u001B[38;5;124m../src/config/experiment/test.yaml\u001B[39m\u001B[38;5;124m'\u001B[39m)\n\u001B[1;32m----> 2\u001B[0m transforms \u001B[38;5;241m=\u001B[39m \u001B[43mbuild_backbone\u001B[49m\u001B[43m(\u001B[49m\u001B[43mcfg\u001B[49m\u001B[38;5;241;43m.\u001B[39;49m\u001B[43mMODEL\u001B[49m\u001B[38;5;241;43m.\u001B[39;49m\u001B[43mBACKBONE\u001B[49m\u001B[43m)\u001B[49m\n",
      "File \u001B[1;32mF:\\CRLab\\src\\modeling\\backbone\\build.py:14\u001B[0m, in \u001B[0;36mbuild_backbone\u001B[1;34m(backbone_cfg)\u001B[0m\n\u001B[0;32m      8\u001B[0m \u001B[38;5;28;01mdef\u001B[39;00m \u001B[38;5;21mbuild_backbone\u001B[39m(backbone_cfg: CfgNode) \u001B[38;5;241m-\u001B[39m\u001B[38;5;241m>\u001B[39m nn\u001B[38;5;241m.\u001B[39mModule:\n\u001B[0;32m      9\u001B[0m     \u001B[38;5;124;03m\"\"\"\u001B[39;00m\n\u001B[0;32m     10\u001B[0m \u001B[38;5;124;03m    build backbone\u001B[39;00m\n\u001B[0;32m     11\u001B[0m \u001B[38;5;124;03m    :param backbone_cfg:\u001B[39;00m\n\u001B[0;32m     12\u001B[0m \u001B[38;5;124;03m    :return:\u001B[39;00m\n\u001B[0;32m     13\u001B[0m \u001B[38;5;124;03m    \"\"\"\u001B[39;00m\n\u001B[1;32m---> 14\u001B[0m     backbone \u001B[38;5;241m=\u001B[39m \u001B[43mBACKBONE_REGISTRY\u001B[49m\u001B[43m[\u001B[49m\u001B[43mbackbone_cfg\u001B[49m\u001B[38;5;241;43m.\u001B[39;49m\u001B[43mNAME\u001B[49m\u001B[43m]\u001B[49m(backbone_cfg)\n\u001B[0;32m     15\u001B[0m     \u001B[38;5;28;01mreturn\u001B[39;00m backbone\n",
      "\u001B[1;31mKeyError\u001B[0m: 'resnet18'"
     ]
    }
   ],
   "source": [
    "cfg = combine_cfgs('../src/config/experiment/test.yaml')\n",
    "transforms = build_backbone(cfg.MODEL.BACKBONE)"
   ],
   "metadata": {
    "collapsed": false,
    "pycharm": {
     "name": "#%%\n"
    }
   }
  },
  {
   "cell_type": "code",
   "execution_count": null,
   "outputs": [],
   "source": [],
   "metadata": {
    "collapsed": false,
    "pycharm": {
     "name": "#%%\n"
    }
   }
  }
 ],
 "metadata": {
  "kernelspec": {
   "display_name": "Python 3",
   "language": "python",
   "name": "python3"
  },
  "language_info": {
   "codemirror_mode": {
    "name": "ipython",
    "version": 2
   },
   "file_extension": ".py",
   "mimetype": "text/x-python",
   "name": "python",
   "nbconvert_exporter": "python",
   "pygments_lexer": "ipython2",
   "version": "2.7.6"
  }
 },
 "nbformat": 4,
 "nbformat_minor": 0
}